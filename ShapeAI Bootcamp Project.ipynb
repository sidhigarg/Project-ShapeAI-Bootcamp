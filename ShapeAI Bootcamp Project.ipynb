{
 "cells": [
  {
   "cell_type": "markdown",
   "metadata": {},
   "source": [
    "# Hash generation for a string using md5 algorithm"
   ]
  },
  {
   "cell_type": "code",
   "execution_count": 12,
   "metadata": {},
   "outputs": [
    {
     "name": "stdout",
     "output_type": "stream",
     "text": [
      "Enter a message: python\n"
     ]
    },
    {
     "data": {
      "text/plain": [
       "'23eeeb4347bdd26bfc6b7ee9a3b755dd'"
      ]
     },
     "execution_count": 12,
     "metadata": {},
     "output_type": "execute_result"
    }
   ],
   "source": [
    "import hashlib\n",
    "\n",
    "string=input('Enter a message: ')\n",
    "hashlib.md5(string.encode()).hexdigest()"
   ]
  },
  {
   "cell_type": "markdown",
   "metadata": {},
   "source": [
    "# Hash generation for a string using any 3 algorithms in hashlib"
   ]
  },
  {
   "cell_type": "code",
   "execution_count": 13,
   "metadata": {},
   "outputs": [
    {
     "name": "stdout",
     "output_type": "stream",
     "text": [
      "{'sha512_256', 'sha3_224', 'sha512', 'sha3_256', 'sha224', 'sha384', 'sha512_224', 'mdc2', 'shake_128', 'shake_256', 'sha3_384', 'md4', 'sm3', 'sha3_512', 'sha256', 'blake2s', 'ripemd160', 'md5', 'blake2b', 'md5-sha1', 'whirlpool', 'sha1'}\n"
     ]
    }
   ],
   "source": [
    "# Checking for available hashing algorithms in hashlib\n",
    "print(hashlib.algorithms_available)"
   ]
  },
  {
   "cell_type": "code",
   "execution_count": 14,
   "metadata": {},
   "outputs": [
    {
     "name": "stdout",
     "output_type": "stream",
     "text": [
      "Enter a message: python\n"
     ]
    },
    {
     "data": {
      "text/plain": [
       "'11a4a60b518bf24989d481468076e5d5982884626aed9faeb35b8576fcd223e1'"
      ]
     },
     "execution_count": 14,
     "metadata": {},
     "output_type": "execute_result"
    }
   ],
   "source": [
    "# Hash generation for a string using sha256 algorithm\n",
    "string=input('Enter a message: ')\n",
    "hashlib.sha256(string.encode()).hexdigest()"
   ]
  },
  {
   "cell_type": "code",
   "execution_count": 15,
   "metadata": {},
   "outputs": [
    {
     "name": "stdout",
     "output_type": "stream",
     "text": [
      "Enter a message: python\n"
     ]
    },
    {
     "data": {
      "text/plain": [
       "'dace1c32d56e6f2bd077266a5a381fcf7ff9052e0a269e32cd52a551'"
      ]
     },
     "execution_count": 15,
     "metadata": {},
     "output_type": "execute_result"
    }
   ],
   "source": [
    "# Hash generation for a string using sha224 algorithm\n",
    "string=input('Enter a message: ')\n",
    "hashlib.sha224(string.encode()).hexdigest()"
   ]
  },
  {
   "cell_type": "code",
   "execution_count": 16,
   "metadata": {},
   "outputs": [
    {
     "name": "stdout",
     "output_type": "stream",
     "text": [
      "Enter a message: python\n"
     ]
    },
    {
     "data": {
      "text/plain": [
       "'ecc579811643b170cbd88fd0d0e323d1e1acc7cef8f73483a70abea01a89afa8015295f617f27447ba05e928e47a0b3a46dc79e72f99d1333856e23eeff97d8b'"
      ]
     },
     "execution_count": 16,
     "metadata": {},
     "output_type": "execute_result"
    }
   ],
   "source": [
    "# Hash generation for a string using sha512 algorithm\n",
    "string=input('Enter a message: ')\n",
    "hashlib.sha512(string.encode()).hexdigest()"
   ]
  },
  {
   "cell_type": "markdown",
   "metadata": {},
   "source": [
    "# Adding salt and iterations to hash"
   ]
  },
  {
   "cell_type": "code",
   "execution_count": 17,
   "metadata": {},
   "outputs": [
    {
     "name": "stdout",
     "output_type": "stream",
     "text": [
      "Enter a message: python\n"
     ]
    },
    {
     "data": {
      "text/plain": [
       "'5ec2421fba351cee0e4886fee9eed372524ecbee68c531a0ecbaa68868fae3ca'"
      ]
     },
     "execution_count": 17,
     "metadata": {},
     "output_type": "execute_result"
    }
   ],
   "source": [
    "import os\n",
    "\n",
    "string=input('Enter a message: ')\n",
    "byte_str=string.encode()  #converting str to byte\n",
    "salt_size=64 #according to PBKDF2 standard\n",
    "salt= os.urandom(salt_size)\n",
    "h1 = hashlib.pbkdf2_hmac('sha256', byte_str, salt, 100000)  #iterating 100000 times\n",
    "h1.hex()"
   ]
  }
 ],
 "metadata": {
  "kernelspec": {
   "display_name": "Python 3",
   "language": "python",
   "name": "python3"
  },
  "language_info": {
   "codemirror_mode": {
    "name": "ipython",
    "version": 3
   },
   "file_extension": ".py",
   "mimetype": "text/x-python",
   "name": "python",
   "nbconvert_exporter": "python",
   "pygments_lexer": "ipython3",
   "version": "3.8.5"
  }
 },
 "nbformat": 4,
 "nbformat_minor": 4
}
